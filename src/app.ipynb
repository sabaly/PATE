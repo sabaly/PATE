{
 "cells": [
  {
   "cell_type": "code",
   "execution_count": 1,
   "id": "302015ad",
   "metadata": {},
   "outputs": [
    {
     "name": "stderr",
     "output_type": "stream",
     "text": [
      "2024-05-23 12:04:23.167976: I tensorflow/core/platform/cpu_feature_guard.cc:210] This TensorFlow binary is optimized to use available CPU instructions in performance-critical operations.\n",
      "To enable the following instructions: AVX2 FMA, in other operations, rebuild TensorFlow with the appropriate compiler flags.\n",
      "2024-05-23 12:04:23.830124: W tensorflow/compiler/tf2tensorrt/utils/py_utils.cc:38] TF-TRT Warning: Could not find TensorRT\n"
     ]
    }
   ],
   "source": [
    "from folktables import ACSDataSource, ACSEmployment\n",
    "import tensorflow as tf\n",
    "from sklearn.model_selection import train_test_split\n",
    "import numpy as np\n",
    "import pandas as pd"
   ]
  },
  {
   "cell_type": "code",
   "execution_count": 31,
   "id": "431a50cc",
   "metadata": {},
   "outputs": [],
   "source": [
    "data_src = ACSDataSource(survey_year=\"2018\", horizon=\"1-Year\", survey=\"person\")\n",
    "acs_data = data_src.get_data(states=[\"CA\"], download=True)\n",
    "features, labels, group = ACSEmployment.df_to_numpy(acs_data)"
   ]
  },
  {
   "cell_type": "code",
   "execution_count": 33,
   "id": "7ab14011",
   "metadata": {},
   "outputs": [
    {
     "name": "stdout",
     "output_type": "stream",
     "text": [
      "(378817, 16)  vs  (378817, 16)\n"
     ]
    }
   ],
   "source": [
    "df = pd.DataFrame(features)\n",
    "df.columns = ACSEmployment.features\n",
    "df[ACSEmployment.target] = labels\n",
    "clear_data = df.copy()\n",
    "n_labels = np.array(clear_data.pop(\"ESR\"))\n",
    "n_features = clear_data.copy()\n",
    "print(n_features.shape, \" vs \", features.shape)\n",
    "x_train, x_test, y_train, y_test, group_train, group_test = train_test_split(\n",
    "    n_features, n_labels, group, test_size=0.2, random_state=0)"
   ]
  },
  {
   "cell_type": "code",
   "execution_count": 34,
   "id": "1388c489",
   "metadata": {},
   "outputs": [
    {
     "name": "stdout",
     "output_type": "stream",
     "text": [
      "5702  vs  85639\n",
      "Disparate impact :  0.8529905307925469 [186364]\n"
     ]
    }
   ],
   "source": [
    "print(sum(y_train[(group_train == 2)]), \" vs \", sum(y_train[(group_train == 1)]))\n",
    "di = np.mean(y_train[(group_train == 2)]) / np.mean(y_train[(group_train == 1)])\n",
    "print(\"Disparate impact : \", di, f\"[{len(y_train[(group_train == 1)])}]\")"
   ]
  },
  {
   "cell_type": "code",
   "execution_count": 35,
   "id": "f9c7486c",
   "metadata": {},
   "outputs": [],
   "source": [
    "input_shape = x_train.shape[1:]\n",
    "\n",
    "def get_model(input_shape):\n",
    "    tf.keras.utils.set_random_seed(0)\n",
    "    model = tf.keras.models.Sequential([\n",
    "        tf.keras.Input(input_shape),\n",
    "        tf.keras.layers.Dense(16, activation=\"relu\"),\n",
    "        tf.keras.layers.Dense(32, activation=\"relu\"),\n",
    "        tf.keras.layers.Dense(64, activation=\"relu\"),\n",
    "        tf.keras.layers.Dense(128, activation=\"relu\"),\n",
    "        tf.keras.layers.Dense(64, activation=\"relu\"),\n",
    "        tf.keras.layers.Dense(32, activation=\"relu\"),\n",
    "        tf.keras.layers.Dense(16, activation=\"relu\"),\n",
    "        #tf.keras.layers.Dropout(0.2),\n",
    "        tf.keras.layers.Dense(1, activation='sigmoid')\n",
    "    ])\n",
    "\n",
    "    model.compile(optimizer=tf.keras.optimizers.Adam(learning_rate=1e-3),\n",
    "            loss=tf.keras.losses.BinaryCrossentropy(),\n",
    "            metrics=[tf.keras.metrics.BinaryAccuracy(name=\"accuracy\"), tf.keras.metrics.Recall(name=\"recall\"), \n",
    "                     tf.keras.metrics.AUC(name=\"auc\")])\n",
    "    return model"
   ]
  },
  {
   "cell_type": "code",
   "execution_count": 36,
   "id": "03aa2463",
   "metadata": {
    "scrolled": false
   },
   "outputs": [
    {
     "name": "stdout",
     "output_type": "stream",
     "text": [
      "Training model...Done\n"
     ]
    }
   ],
   "source": [
    "model1 = get_model(input_shape)\n",
    "model2 = get_model(input_shape)\n",
    "print(\"Training model...\", end=\"\")\n",
    "model1.fit(x_train, y_train, epochs=50, verbose=False)\n",
    "model2.fit(x_train, y_train, epochs=50, verbose=False)\n",
    "print(\"Done\")"
   ]
  },
  {
   "cell_type": "code",
   "execution_count": 37,
   "id": "9041c3c4",
   "metadata": {},
   "outputs": [
    {
     "name": "stdout",
     "output_type": "stream",
     "text": [
      "\u001b[1m2368/2368\u001b[0m \u001b[32m━━━━━━━━━━━━━━━━━━━━\u001b[0m\u001b[37m\u001b[0m \u001b[1m1s\u001b[0m 390us/step\n",
      "\u001b[1m2368/2368\u001b[0m \u001b[32m━━━━━━━━━━━━━━━━━━━━\u001b[0m\u001b[37m\u001b[0m \u001b[1m1s\u001b[0m 395us/step\n",
      "[0]  |  (75764, 1)\n"
     ]
    }
   ],
   "source": [
    "yhat1 = model1.predict(x_test)\n",
    "yhat2 = model2.predict(x_test)\n",
    "l = yhat1 == yhat2\n",
    "print(sum([x==False for x in l]), ' | ', l.shape)"
   ]
  },
  {
   "cell_type": "code",
   "execution_count": 38,
   "id": "ab7137f2",
   "metadata": {},
   "outputs": [
    {
     "name": "stdout",
     "output_type": "stream",
     "text": [
      "\u001b[1m2368/2368\u001b[0m \u001b[32m━━━━━━━━━━━━━━━━━━━━\u001b[0m\u001b[37m\u001b[0m \u001b[1m1s\u001b[0m 362us/step\n",
      "\u001b[1m2368/2368\u001b[0m \u001b[32m━━━━━━━━━━━━━━━━━━━━\u001b[0m\u001b[37m\u001b[0m \u001b[1m1s\u001b[0m 381us/step\n"
     ]
    },
    {
     "data": {
      "image/png": "[encoded data removed]",
      "text/plain": [
       "<Figure size 640x480 with 2 Axes>"
      ]
     },
     "metadata": {},
     "output_type": "display_data"
    }
   ],
   "source": [
    "from sklearn import metrics\n",
    "import matplotlib.pyplot as plt\n",
    "\n",
    "fig,(ax1, ax2) = plt.subplots(1, 2)\n",
    "yhat = model1.predict(x_test)\n",
    "fpr, tpr, _ = metrics.roc_curve(y_test, yhat)\n",
    "auc = metrics.roc_auc_score(y_test, yhat)\n",
    "ax1.plot(fpr, tpr, label=\"auc = \"+str(auc))\n",
    "yhat = model2.predict(x_test)\n",
    "fpr, tpr, _ = metrics.roc_curve(y_test, yhat)\n",
    "auc = metrics.roc_auc_score(y_test, yhat)\n",
    "ax2.plot(fpr, tpr, label=\"auc = \"+str(auc))\n",
    "plt.legend()\n",
    "plt.show()"
   ]
  },
  {
   "cell_type": "code",
   "execution_count": 39,
   "id": "ac589bf2",
   "metadata": {},
   "outputs": [
    {
     "name": "stdout",
     "output_type": "stream",
     "text": [
      "\u001b[1m2368/2368\u001b[0m \u001b[32m━━━━━━━━━━━━━━━━━━━━\u001b[0m\u001b[37m\u001b[0m \u001b[1m1s\u001b[0m 373us/step\n",
      "\u001b[1m2368/2368\u001b[0m \u001b[32m━━━━━━━━━━━━━━━━━━━━\u001b[0m\u001b[37m\u001b[0m \u001b[1m1s\u001b[0m 415us/step - accuracy: 0.8185 - auc: 0.8997 - loss: 0.3863 - recall: 0.8511\n",
      "\u001b[1m2368/2368\u001b[0m \u001b[32m━━━━━━━━━━━━━━━━━━━━\u001b[0m\u001b[37m\u001b[0m \u001b[1m1s\u001b[0m 369us/step\n",
      "\u001b[1m2368/2368\u001b[0m \u001b[32m━━━━━━━━━━━━━━━━━━━━\u001b[0m\u001b[37m\u001b[0m \u001b[1m1s\u001b[0m 413us/step - accuracy: 0.8185 - auc: 0.8997 - loss: 0.3863 - recall: 0.8511\n"
     ]
    }
   ],
   "source": [
    "import math\n",
    "def fairness(model, x_test, y_test, group_test):\n",
    "    yhat = np.round(model.predict(x_test))\n",
    "    ev = model.evaluate(x_test, y_test)\n",
    "    acc = float(format(ev[1], \"0.4f\"))\n",
    "    rec = float(format(ev[2], \".4f\"))\n",
    "    #acc = float(format(np.mean(yhat[(y_test == 1)]), \"0.4f\"))\n",
    "\n",
    "    p_grp_tpr = np.mean(yhat[(y_test == 1) & (group_test == 1)])\n",
    "    up_grp_tpr = np.mean(yhat[(y_test == 1) & (group_test == 2)])\n",
    "    if math.isnan(p_grp_tpr):\n",
    "        p_grp_tpr = 0\n",
    "    if math.isnan(up_grp_tpr):\n",
    "        up_grp_tpr = 0\n",
    "    \n",
    "    # equality of difference (opportinuty)\n",
    "    eod = float(format(abs(p_grp_tpr - up_grp_tpr), \".4f\"))\n",
    "\n",
    "    # statistical parity difference\n",
    "    p_grp = np.mean(yhat[(group_test == 1)])\n",
    "    up_grp = np.mean(yhat[(group_test == 2)])\n",
    "    if math.isnan(p_grp):\n",
    "        p_grp = 0\n",
    "    if math.isnan(up_grp):\n",
    "        up_grp = 0\n",
    "    spd = float(format(abs(p_grp - up_grp), \".4f\"))\n",
    "\n",
    "    return {\"EOD\": eod, \"SPD\": spd, \"ACC\": acc, \"REC\": rec}\n",
    "\n",
    "stats1 = fairness(model1, x_test, y_test, group_test)\n",
    "stats2 = fairness(model2, x_test, y_test, group_test)"
   ]
  },
  {
   "cell_type": "code",
   "execution_count": 40,
   "id": "711382f3",
   "metadata": {
    "scrolled": false
   },
   "outputs": [
    {
     "name": "stdout",
     "output_type": "stream",
     "text": [
      "{'EOD': 0.0245, 'SPD': 0.0648, 'ACC': 0.8177, 'REC': 0.8507}\n"
     ]
    },
    {
     "data": {
      "image/png": "[encoded data removed]",
      "text/plain": [
       "<Figure size 640x480 with 1 Axes>"
      ]
     },
     "metadata": {},
     "output_type": "display_data"
    },
    {
     "name": "stdout",
     "output_type": "stream",
     "text": [
      "{'EOD': 0.0245, 'SPD': 0.0648, 'ACC': 0.8177, 'REC': 0.8507}\n"
     ]
    },
    {
     "data": {
      "image/png": "[encoded data removed]",
      "text/plain": [
       "<Figure size 640x480 with 1 Axes>"
      ]
     },
     "metadata": {},
     "output_type": "display_data"
    }
   ],
   "source": [
    "def plot(stats):\n",
    "    print(stats)\n",
    "    colors = plt.rcParams[\"axes.prop_cycle\"].by_key()['color']\n",
    "    b_width=0.3\n",
    "    plt.bar([1], [stats[\"ACC\"]], width=b_width, color=colors[0], label=\"accuracy\")\n",
    "    plt.bar([1+b_width], [stats[\"EOD\"]], width=b_width, color=colors[1], label=\"EOD\")\n",
    "    plt.bar([1+2*b_width], [stats[\"SPD\"]], width=b_width, color=colors[2], label=\"SPD\")\n",
    "    plt.bar([1+3*b_width], [stats[\"REC\"]], width=b_width, color=colors[3], label=\"REC\")\n",
    "    plt.xticks([1+3*b_width/2], [\"\"])\n",
    "    plt.yticks(np.arange(0, 1.1, step=0.1))\n",
    "    plt.ylim([0,1.1])\n",
    "    plt.xlabel(f\"Student\")\n",
    "    plt.ylabel(\"Metrics\")\n",
    "    plt.legend()\n",
    "    plt.show()\n",
    "    \n",
    "plot(stats1)\n",
    "plot(stats2)"
   ]
  },
  {
   "cell_type": "markdown",
   "id": "25ee7c41",
   "metadata": {},
   "source": [
    "### Testing dirichlet"
   ]
  },
  {
   "cell_type": "code",
   "execution_count": 41,
   "id": "7a506f76",
   "metadata": {},
   "outputs": [],
   "source": [
    "p_grp_pr = df[(df[\"RAC1P\"] == 1) & (df[\"ESR\"] == True)]\n",
    "up_grp_pr = df[(df[\"RAC1P\"] == 2) & (df[\"ESR\"] == True)]\n",
    "rest_of_df = df[((df[\"RAC1P\"] != 1) & (df[\"RAC1P\"] != 2)) | (df[\"ESR\"] == False)]"
   ]
  },
  {
   "cell_type": "code",
   "execution_count": 42,
   "id": "1a50b26a",
   "metadata": {},
   "outputs": [
    {
     "name": "stdout",
     "output_type": "stream",
     "text": [
      "(106659, 17)  |  (7168, 17)  |  (264990, 17)\n"
     ]
    }
   ],
   "source": [
    "print(p_grp_pr.shape, ' | ', up_grp_pr.shape, \" | \", rest_of_df.shape)"
   ]
  },
  {
   "cell_type": "code",
   "execution_count": 43,
   "id": "50863e2e",
   "metadata": {},
   "outputs": [],
   "source": [
    "p_vs_up = pd.concat([p_grp_pr, up_grp_pr])"
   ]
  },
  {
   "cell_type": "code",
   "execution_count": 44,
   "id": "a0ad38fe",
   "metadata": {},
   "outputs": [
    {
     "data": {
      "text/plain": [
       "(113827, 17)"
      ]
     },
     "execution_count": 44,
     "metadata": {},
     "output_type": "execute_result"
    }
   ],
   "source": [
    "p_vs_up.shape"
   ]
  },
  {
   "cell_type": "code",
   "execution_count": 45,
   "id": "c5a4130b",
   "metadata": {},
   "outputs": [
    {
     "name": "stdout",
     "output_type": "stream",
     "text": [
      "0.9370272430969805  vs  0.0629727569030195\n"
     ]
    }
   ],
   "source": [
    "print(p_grp_pr.shape[0]/p_vs_up.shape[0], ' vs ', up_grp_pr.shape[0]/p_vs_up.shape[0])"
   ]
  },
  {
   "cell_type": "code",
   "execution_count": 46,
   "id": "7eda4943",
   "metadata": {},
   "outputs": [
    {
     "name": "stdout",
     "output_type": "stream",
     "text": [
      "[0.53292098 0.46707902]\n",
      "p_grp :  60660  | up_grp :  53167\n"
     ]
    }
   ],
   "source": [
    "dist = np.random.dirichlet([100,100], 1)\n",
    "print(dist[0])\n",
    "size_p_grp = int(dist[0][0]*p_vs_up.shape[0])\n",
    "size_up_grp = p_vs_up.shape[0]-size_p_grp\n",
    "print(\"p_grp : \", size_p_grp, \" | up_grp : \", size_up_grp)"
   ]
  },
  {
   "cell_type": "code",
   "execution_count": 47,
   "id": "159ccf8d",
   "metadata": {},
   "outputs": [],
   "source": [
    "p_grp = p_grp_pr.sample(size_p_grp, replace=True)\n",
    "up_grp = up_grp_pr.sample(size_up_grp, replace=True)"
   ]
  },
  {
   "cell_type": "code",
   "execution_count": 48,
   "id": "f811984c",
   "metadata": {},
   "outputs": [
    {
     "data": {
      "text/plain": [
       "(378817, 17)"
      ]
     },
     "execution_count": 48,
     "metadata": {},
     "output_type": "execute_result"
    }
   ],
   "source": [
    "final_df = pd.concat([p_grp, up_grp, rest_of_df])\n",
    "final_df.shape"
   ]
  },
  {
   "cell_type": "code",
   "execution_count": 49,
   "id": "af5be119",
   "metadata": {},
   "outputs": [],
   "source": [
    "n_clear_data = final_df.copy()\n",
    "n_labels = np.array(n_clear_data.pop(\"ESR\"))\n",
    "n_features = n_clear_data.copy()\n",
    "n_group = n_clear_data[\"RAC1P\"]\n",
    "\n",
    "n_x_train, n_x_test, n_y_train, n_y_test, n_group_train, n_group_test = train_test_split(\n",
    "    n_features, n_labels, n_group, test_size=0.2, random_state=0)"
   ]
  },
  {
   "cell_type": "code",
   "execution_count": 50,
   "id": "29e75064",
   "metadata": {},
   "outputs": [],
   "source": [
    "n_input_shape = n_x_train.shape[1:]\n",
    "n_model = get_model(n_input_shape)"
   ]
  },
  {
   "cell_type": "code",
   "execution_count": 51,
   "id": "a9be7d71",
   "metadata": {},
   "outputs": [
    {
     "name": "stdout",
     "output_type": "stream",
     "text": [
      "\u001b[1m2368/2368\u001b[0m \u001b[32m━━━━━━━━━━━━━━━━━━━━\u001b[0m\u001b[37m\u001b[0m \u001b[1m1s\u001b[0m 392us/step\n",
      "\u001b[1m2368/2368\u001b[0m \u001b[32m━━━━━━━━━━━━━━━━━━━━\u001b[0m\u001b[37m\u001b[0m \u001b[1m1s\u001b[0m 419us/step - accuracy: 0.8324 - auc: 0.9168 - loss: 0.3652 - recall: 0.8491\n",
      "{'EOD': 0.2591, 'SPD': 0.5671, 'ACC': 0.8345, 'REC': 0.8478}\n"
     ]
    },
    {
     "data": {
      "image/png": "[encoded data removed]",
      "text/plain": [
       "<Figure size 640x480 with 1 Axes>"
      ]
     },
     "metadata": {},
     "output_type": "display_data"
    }
   ],
   "source": [
    "n_model.fit(n_x_train, n_y_train, epochs=50, verbose=False)\n",
    "n_stats = fairness(n_model, n_x_test, n_y_test, n_group_test)\n",
    "plot(n_stats)"
   ]
  },
  {
   "cell_type": "code",
   "execution_count": 52,
   "id": "697da65a",
   "metadata": {},
   "outputs": [
    {
     "name": "stdout",
     "output_type": "stream",
     "text": [
      "\u001b[1m2368/2368\u001b[0m \u001b[32m━━━━━━━━━━━━━━━━━━━━\u001b[0m\u001b[37m\u001b[0m \u001b[1m1s\u001b[0m 389us/step\n",
      "\u001b[1m2368/2368\u001b[0m \u001b[32m━━━━━━━━━━━━━━━━━━━━\u001b[0m\u001b[37m\u001b[0m \u001b[1m1s\u001b[0m 422us/step - accuracy: 0.8324 - auc: 0.9168 - loss: 0.3652 - recall: 0.8491\n",
      "\u001b[1m2368/2368\u001b[0m \u001b[32m━━━━━━━━━━━━━━━━━━━━\u001b[0m\u001b[37m\u001b[0m \u001b[1m1s\u001b[0m 398us/step\n",
      "\u001b[1m2368/2368\u001b[0m \u001b[32m━━━━━━━━━━━━━━━━━━━━\u001b[0m\u001b[37m\u001b[0m \u001b[1m1s\u001b[0m 421us/step - accuracy: 0.8324 - auc: 0.9168 - loss: 0.3652 - recall: 0.8491\n",
      "\u001b[1m2368/2368\u001b[0m \u001b[32m━━━━━━━━━━━━━━━━━━━━\u001b[0m\u001b[37m\u001b[0m \u001b[1m1s\u001b[0m 399us/step\n",
      "\u001b[1m2368/2368\u001b[0m \u001b[32m━━━━━━━━━━━━━━━━━━━━\u001b[0m\u001b[37m\u001b[0m \u001b[1m1s\u001b[0m 431us/step - accuracy: 0.8324 - auc: 0.9168 - loss: 0.3652 - recall: 0.8491\n",
      "\u001b[1m2368/2368\u001b[0m \u001b[32m━━━━━━━━━━━━━━━━━━━━\u001b[0m\u001b[37m\u001b[0m \u001b[1m1s\u001b[0m 381us/step\n",
      "\u001b[1m2368/2368\u001b[0m \u001b[32m━━━━━━━━━━━━━━━━━━━━\u001b[0m\u001b[37m\u001b[0m \u001b[1m1s\u001b[0m 407us/step - accuracy: 0.8324 - auc: 0.9168 - loss: 0.3652 - recall: 0.8491\n",
      "\u001b[1m2368/2368\u001b[0m \u001b[32m━━━━━━━━━━━━━━━━━━━━\u001b[0m\u001b[37m\u001b[0m \u001b[1m1s\u001b[0m 383us/step\n",
      "\u001b[1m2368/2368\u001b[0m \u001b[32m━━━━━━━━━━━━━━━━━━━━\u001b[0m\u001b[37m\u001b[0m \u001b[1m1s\u001b[0m 412us/step - accuracy: 0.8324 - auc: 0.9168 - loss: 0.3652 - recall: 0.8491\n"
     ]
    },
    {
     "data": {
      "image/png": "[encoded data removed]",
      "text/plain": [
       "<Figure size 640x480 with 1 Axes>"
      ]
     },
     "metadata": {},
     "output_type": "display_data"
    }
   ],
   "source": [
    "y_axis = []\n",
    "for _ in range(5):\n",
    "    dist = np.random.dirichlet([100,100], 1)\n",
    "    size_p_grp = int(dist[0][0]*p_vs_up.shape[0])\n",
    "    size_up_grp = p_vs_up.shape[0]-size_p_grp\n",
    "    p_grp = p_grp_pr.sample(size_p_grp, replace=True)\n",
    "    up_grp = up_grp_pr.sample(size_up_grp, replace=True)\n",
    "    final_df = pd.concat([p_grp, up_grp, rest_of_df])\n",
    "    n_clear_data = final_df.copy()\n",
    "    n_labels = np.array(n_clear_data.pop(\"ESR\"))\n",
    "    n_features = n_clear_data.copy()\n",
    "    n_group = n_clear_data[\"RAC1P\"]\n",
    "\n",
    "    n_x_train, n_x_test, n_y_train, n_y_test, n_group_train, n_group_test = train_test_split(\n",
    "        n_features, n_labels, n_group, test_size=0.2, random_state=0)\n",
    "    \n",
    "    n_input_shape = n_x_train.shape[1:]\n",
    "    n_model = get_model(n_input_shape)\n",
    "    n_model.fit(n_x_train, n_y_train, epochs=50, verbose=False)\n",
    "    n_stats = fairness(n_model, n_x_test, n_y_test, n_group_test)\n",
    "    y_axis.append(n_stats[\"EOD\"])\n",
    "plt.plot(list(range(5)), y_axis)\n",
    "plt.show()"
   ]
  },
  {
   "cell_type": "code",
   "execution_count": null,
   "id": "6f92a797",
   "metadata": {},
   "outputs": [],
   "source": []
  }
 ],
 "metadata": {
  "kernelspec": {
   "display_name": "Python 3 (ipykernel)",
   "language": "python",
   "name": "python3"
  },
  "language_info": {
   "codemirror_mode": {
    "name": "ipython",
    "version": 3
   },
   "file_extension": ".py",
   "mimetype": "text/x-python",
   "name": "python",
   "nbconvert_exporter": "python",
   "pygments_lexer": "ipython3",
   "version": "3.11.5"
  }
 },
 "nbformat": 4,
 "nbformat_minor": 5
}
