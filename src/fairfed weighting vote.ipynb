{
 "cells": [
  {
   "cell_type": "code",
   "execution_count": 1,
   "id": "4d70659e",
   "metadata": {},
   "outputs": [
    {
     "name": "stderr",
     "output_type": "stream",
     "text": [
      "2024-06-26 10:11:28.267314: I tensorflow/core/platform/cpu_feature_guard.cc:210] This TensorFlow binary is optimized to use available CPU instructions in performance-critical operations.\n",
      "To enable the following instructions: AVX2 FMA, in other operations, rebuild TensorFlow with the appropriate compiler flags.\n",
      "2024-06-26 10:11:29.485828: W tensorflow/compiler/tf2tensorrt/utils/py_utils.cc:38] TF-TRT Warning: Could not find TensorRT\n"
     ]
    }
   ],
   "source": [
    "from folktables import ACSDataSource, ACSEmployment, employment_filter, BasicProblem\n",
    "import tensorflow as tf\n",
    "from sklearn.model_selection import train_test_split\n",
    "import numpy as np\n",
    "import pandas as pd\n",
    "import os\n",
    "import math\n",
    "import pickle\n",
    "from random import randint\n",
    "import matplotlib.pyplot as plt"
   ]
  },
  {
   "cell_type": "code",
   "execution_count": 2,
   "id": "89f4feb9",
   "metadata": {},
   "outputs": [],
   "source": [
    "from student import *\n",
    "from aggregator import *\n",
    "from teacher_ensemble import *\n",
    "(x_train, x_test, y_train, y_test, s_train, s_test) = load_student_data(\"AK\", attr=\"sex\")"
   ]
  },
  {
   "cell_type": "code",
   "execution_count": 10,
   "id": "df12efe2",
   "metadata": {},
   "outputs": [
    {
     "ename": "KeyboardInterrupt",
     "evalue": "",
     "output_type": "error",
     "traceback": [
      "\u001b[0;31m---------------------------------------------------------------------------\u001b[0m",
      "\u001b[0;31mKeyboardInterrupt\u001b[0m                         Traceback (most recent call last)",
      "Cell \u001b[0;32mIn[10], line 57\u001b[0m\n\u001b[1;32m     54\u001b[0m         axe_ind \u001b[38;5;241m+\u001b[39m\u001b[38;5;241m=\u001b[39m \u001b[38;5;241m1\u001b[39m\n\u001b[1;32m     55\u001b[0m         \u001b[38;5;28mprint\u001b[39m(\u001b[38;5;124m\"\u001b[39m\u001b[38;5;124m>> beta.... \u001b[39m\u001b[38;5;124m\"\u001b[39m, beta, \u001b[38;5;124m\"\u001b[39m\u001b[38;5;124m...Done\u001b[39m\u001b[38;5;124m\"\u001b[39m)\n\u001b[0;32m---> 57\u001b[0m get_fairfed_beta_impact()\n",
      "Cell \u001b[0;32mIn[10], line 41\u001b[0m, in \u001b[0;36mget_fairfed_beta_impact\u001b[0;34m()\u001b[0m\n\u001b[1;32m     39\u001b[0m loc_st_fairnesses \u001b[38;5;241m=\u001b[39m []\n\u001b[1;32m     40\u001b[0m \u001b[38;5;28;01mwith\u001b[39;00m Pool(\u001b[38;5;241m5\u001b[39m) \u001b[38;5;28;01mas\u001b[39;00m p:\n\u001b[0;32m---> 41\u001b[0m     loc_st_fairnesses \u001b[38;5;241m=\u001b[39m p\u001b[38;5;241m.\u001b[39mmap(wrapper, [(nb_teachers, i, beta) \u001b[38;5;28;01mfor\u001b[39;00m i \u001b[38;5;129;01min\u001b[39;00m \u001b[38;5;28mrange\u001b[39m(\u001b[38;5;241m1\u001b[39m, nb_teachers)])\n\u001b[1;32m     42\u001b[0m     p\u001b[38;5;241m.\u001b[39mclose()\n\u001b[1;32m     43\u001b[0m \u001b[38;5;28mprint\u001b[39m(\u001b[38;5;124m\"\u001b[39m\u001b[38;5;124mNot here too !\u001b[39m\u001b[38;5;124m\"\u001b[39m)\n",
      "File \u001b[0;32m~/anaconda3/lib/python3.11/multiprocessing/pool.py:367\u001b[0m, in \u001b[0;36mPool.map\u001b[0;34m(self, func, iterable, chunksize)\u001b[0m\n\u001b[1;32m    362\u001b[0m \u001b[38;5;28;01mdef\u001b[39;00m \u001b[38;5;21mmap\u001b[39m(\u001b[38;5;28mself\u001b[39m, func, iterable, chunksize\u001b[38;5;241m=\u001b[39m\u001b[38;5;28;01mNone\u001b[39;00m):\n\u001b[1;32m    363\u001b[0m \u001b[38;5;250m    \u001b[39m\u001b[38;5;124;03m'''\u001b[39;00m\n\u001b[1;32m    364\u001b[0m \u001b[38;5;124;03m    Apply `func` to each element in `iterable`, collecting the results\u001b[39;00m\n\u001b[1;32m    365\u001b[0m \u001b[38;5;124;03m    in a list that is returned.\u001b[39;00m\n\u001b[1;32m    366\u001b[0m \u001b[38;5;124;03m    '''\u001b[39;00m\n\u001b[0;32m--> 367\u001b[0m     \u001b[38;5;28;01mreturn\u001b[39;00m \u001b[38;5;28mself\u001b[39m\u001b[38;5;241m.\u001b[39m_map_async(func, iterable, mapstar, chunksize)\u001b[38;5;241m.\u001b[39mget()\n",
      "File \u001b[0;32m~/anaconda3/lib/python3.11/multiprocessing/pool.py:768\u001b[0m, in \u001b[0;36mApplyResult.get\u001b[0;34m(self, timeout)\u001b[0m\n\u001b[1;32m    767\u001b[0m \u001b[38;5;28;01mdef\u001b[39;00m \u001b[38;5;21mget\u001b[39m(\u001b[38;5;28mself\u001b[39m, timeout\u001b[38;5;241m=\u001b[39m\u001b[38;5;28;01mNone\u001b[39;00m):\n\u001b[0;32m--> 768\u001b[0m     \u001b[38;5;28mself\u001b[39m\u001b[38;5;241m.\u001b[39mwait(timeout)\n\u001b[1;32m    769\u001b[0m     \u001b[38;5;28;01mif\u001b[39;00m \u001b[38;5;129;01mnot\u001b[39;00m \u001b[38;5;28mself\u001b[39m\u001b[38;5;241m.\u001b[39mready():\n\u001b[1;32m    770\u001b[0m         \u001b[38;5;28;01mraise\u001b[39;00m \u001b[38;5;167;01mTimeoutError\u001b[39;00m\n",
      "File \u001b[0;32m~/anaconda3/lib/python3.11/multiprocessing/pool.py:765\u001b[0m, in \u001b[0;36mApplyResult.wait\u001b[0;34m(self, timeout)\u001b[0m\n\u001b[1;32m    764\u001b[0m \u001b[38;5;28;01mdef\u001b[39;00m \u001b[38;5;21mwait\u001b[39m(\u001b[38;5;28mself\u001b[39m, timeout\u001b[38;5;241m=\u001b[39m\u001b[38;5;28;01mNone\u001b[39;00m):\n\u001b[0;32m--> 765\u001b[0m     \u001b[38;5;28mself\u001b[39m\u001b[38;5;241m.\u001b[39m_event\u001b[38;5;241m.\u001b[39mwait(timeout)\n",
      "File \u001b[0;32m~/anaconda3/lib/python3.11/threading.py:622\u001b[0m, in \u001b[0;36mEvent.wait\u001b[0;34m(self, timeout)\u001b[0m\n\u001b[1;32m    620\u001b[0m signaled \u001b[38;5;241m=\u001b[39m \u001b[38;5;28mself\u001b[39m\u001b[38;5;241m.\u001b[39m_flag\n\u001b[1;32m    621\u001b[0m \u001b[38;5;28;01mif\u001b[39;00m \u001b[38;5;129;01mnot\u001b[39;00m signaled:\n\u001b[0;32m--> 622\u001b[0m     signaled \u001b[38;5;241m=\u001b[39m \u001b[38;5;28mself\u001b[39m\u001b[38;5;241m.\u001b[39m_cond\u001b[38;5;241m.\u001b[39mwait(timeout)\n\u001b[1;32m    623\u001b[0m \u001b[38;5;28;01mreturn\u001b[39;00m signaled\n",
      "File \u001b[0;32m~/anaconda3/lib/python3.11/threading.py:320\u001b[0m, in \u001b[0;36mCondition.wait\u001b[0;34m(self, timeout)\u001b[0m\n\u001b[1;32m    318\u001b[0m \u001b[38;5;28;01mtry\u001b[39;00m:    \u001b[38;5;66;03m# restore state no matter what (e.g., KeyboardInterrupt)\u001b[39;00m\n\u001b[1;32m    319\u001b[0m     \u001b[38;5;28;01mif\u001b[39;00m timeout \u001b[38;5;129;01mis\u001b[39;00m \u001b[38;5;28;01mNone\u001b[39;00m:\n\u001b[0;32m--> 320\u001b[0m         waiter\u001b[38;5;241m.\u001b[39macquire()\n\u001b[1;32m    321\u001b[0m         gotit \u001b[38;5;241m=\u001b[39m \u001b[38;5;28;01mTrue\u001b[39;00m\n\u001b[1;32m    322\u001b[0m     \u001b[38;5;28;01melse\u001b[39;00m:\n",
      "\u001b[0;31mKeyboardInterrupt\u001b[0m: "
     ]
    },
    {
     "data": {
      "image/png": "[encoded data removed]",
      "text/plain": [
       "<Figure size 640x480 with 6 Axes>"
      ]
     },
     "metadata": {},
     "output_type": "display_data"
    }
   ],
   "source": [
    "from multiprocessing import Pool\n",
    "\n",
    "def training_student(nb_teachers, nb_fair_tchrs, beta=100):\n",
    "    loc_st_fairness = {\"Normal\": [], \"ff\": []}\n",
    "    \n",
    "    tchrs_ensemble = Ensemble(nb_teachers, nb_fair_tchrs)\n",
    "    update_teachers(tchrs_ensemble.tchrs)\n",
    "\n",
    "    metric = []\n",
    "    metric_key = \"SPD\"\n",
    "    for tchrs in tchrs_ensemble.tchrs:\n",
    "        metric.append(tchrs.metrics[metric_key])\n",
    "    set_metrics(metric)\n",
    "\n",
    "    # with fairfed\n",
    "    y_train, _ = fair_fed_agg(x_train, beta=beta)\n",
    "    yhat_test, _ = fair_fed_agg(x_test, beta=beta)\n",
    "    st_model = train_student(x_train, y_train, verbose=False)\n",
    "    loc_st_fairness[\"ff\"].append(fairness(st_model, x_test, yhat_test, s_test, y_test))\n",
    "    \n",
    "    # Normal\n",
    "    y_train, _ = plurality(x_train)\n",
    "    yhat_test, _ = plurality(x_test)\n",
    "    st_model = train_student(x_train, y_train, verbose=False)\n",
    "    loc_st_fairness[\"Normal\"].append(fairness(st_model, x_test, yhat_test, s_test, y_test))\n",
    "    \n",
    "    return loc_st_fairness\n",
    "\n",
    "def wrapper(args):\n",
    "    return training_student(*args)\n",
    "\n",
    "def get_fairfed_beta_impact():\n",
    "    fig, ((ax1,ax2,ax3), (ax4,ax5,ax6)) = plt.subplots(2,3, sharey=True)\n",
    "    nb_teachers = 30\n",
    "    axes = [ax1, ax2, ax3, ax4, ax5, ax6]\n",
    "    axe_ind = 0\n",
    "    for beta in [10, 20, 30, 40, 50, 100]:\n",
    "        st_fairness = {\"Normal\": [], \"ff\": []}\n",
    "        loc_st_fairnesses = []\n",
    "        with Pool(5) as p:\n",
    "            loc_st_fairnesses = p.map(wrapper, [(nb_teachers, i, beta) for i in range(1, nb_teachers)])\n",
    "            p.close()\n",
    "        print(\"Not here too !\")\n",
    "        for cf in [\"Normal\", \"ff\"]:\n",
    "            st_fairness[cf] = sum([l_st_f[cf] for l_st_f in loc_st_fairnesses], [])\n",
    "        \n",
    "        for nb_fair in range(1, nb_teachers):\n",
    "            f = training_student(nb_teachers, nb_fair, beta)\n",
    "            stats_ff.append(f[0])\n",
    "            stats.append(f[1])\n",
    "        axes[axe_ind].plot(list(range(1, nb_teachers)), st_fairness[\"Normal\"], color=colors[0], label=\"Normal\")\n",
    "        axes[axe_ind].plot(list(range(1, nb_teachers)), st_fairness[\"ff\"], color=colors[1], label=f\"beta: {beta}\")\n",
    "        axes[axe_ind].legend()\n",
    "        axe_ind += 1\n",
    "        print(\">> beta.... \", beta, \"...Done\")\n",
    "        \n",
    "get_fairfed_beta_impact()"
   ]
  },
  {
   "cell_type": "code",
   "execution_count": null,
   "id": "fbc13f93",
   "metadata": {},
   "outputs": [],
   "source": [
    "plt.show()"
   ]
  }
 ],
 "metadata": {
  "kernelspec": {
   "display_name": "Python 3 (ipykernel)",
   "language": "python",
   "name": "python3"
  },
  "language_info": {
   "codemirror_mode": {
    "name": "ipython",
    "version": 3
   },
   "file_extension": ".py",
   "mimetype": "text/x-python",
   "name": "python",
   "nbconvert_exporter": "python",
   "pygments_lexer": "ipython3",
   "version": "3.11.5"
  }
 },
 "nbformat": 4,
 "nbformat_minor": 5
}
