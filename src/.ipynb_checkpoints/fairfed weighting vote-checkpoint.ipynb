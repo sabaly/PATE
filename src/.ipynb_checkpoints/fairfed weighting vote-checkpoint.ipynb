{
 "cells": [
  {
   "cell_type": "code",
   "execution_count": 1,
   "id": "4d70659e",
   "metadata": {},
   "outputs": [
    {
     "name": "stderr",
     "output_type": "stream",
     "text": [
      "2024-06-26 10:11:28.267314: I tensorflow/core/platform/cpu_feature_guard.cc:210] This TensorFlow binary is optimized to use available CPU instructions in performance-critical operations.\n",
      "To enable the following instructions: AVX2 FMA, in other operations, rebuild TensorFlow with the appropriate compiler flags.\n",
      "2024-06-26 10:11:29.485828: W tensorflow/compiler/tf2tensorrt/utils/py_utils.cc:38] TF-TRT Warning: Could not find TensorRT\n"
     ]
    }
   ],
   "source": [
    "from folktables import ACSDataSource, ACSEmployment, employment_filter, BasicProblem\n",
    "import tensorflow as tf\n",
    "from sklearn.model_selection import train_test_split\n",
    "import numpy as np\n",
    "import pandas as pd\n",
    "import os\n",
    "import math\n",
    "import pickle\n",
    "from random import randint\n",
    "import matplotlib.pyplot as plt"
   ]
  },
  {
   "cell_type": "code",
   "execution_count": 2,
   "id": "89f4feb9",
   "metadata": {},
   "outputs": [],
   "source": [
    "from student import *\n",
    "from aggregator import *\n",
    "from teacher_ensemble import *\n",
    "(x_train, x_test, y_train, y_test, s_train, s_test) = load_student_data(\"AK\", attr=\"sex\")"
   ]
  },
  {
   "cell_type": "code",
   "execution_count": null,
   "id": "df12efe2",
   "metadata": {},
   "outputs": [],
   "source": [
    "from multiprocessing import Pool\n",
    "\n",
    "def training_student(nb_teachers, nb_fair_tchrs, beta=100):\n",
    "    loc_st_fairness = {\"Normal\": [], \"ff\": []}\n",
    "    \n",
    "    tchrs_ensemble = Ensemble(nb_teachers, nb_fair_tchrs)\n",
    "    update_teachers(tchrs_ensemble.tchrs)\n",
    "\n",
    "    metric = []\n",
    "    metric_key = \"SPD\"\n",
    "    for tchrs in tchrs_ensemble.tchrs:\n",
    "        metric.append(tchrs.metrics[metric_key])\n",
    "    set_metrics(metric)\n",
    "\n",
    "    # with fairfed\n",
    "    y_train, _ = fair_fed_agg(x_train, beta=beta)\n",
    "    yhat_test, _ = fair_fed_agg(x_test, beta=beta)\n",
    "    st_model = train_student(x_train, y_train, verbose=False)\n",
    "    loc_st_fairness[\"ff\"].append(fairness(st_model, x_test, yhat_test, s_test, y_test))\n",
    "    \n",
    "    # Normal\n",
    "    y_train, _ = plurality(x_train)\n",
    "    yhat_test, _ = plurality(x_test)\n",
    "    st_model = train_student(x_train, y_train, verbose=False)\n",
    "    loc_st_fairness[\"Normal\"].append(fairness(st_model, x_test, yhat_test, s_test, y_test))\n",
    "    print(\"HERE!\")\n",
    "    return loc_st_fairness\n",
    "\n",
    "def wrapper(args):\n",
    "    return training_student(*args)\n",
    "\n",
    "def get_fairfed_beta_impact():\n",
    "    fig, ((ax1,ax2,ax3), (ax4,ax5,ax6)) = plt.subplots(2,3, sharey=True)\n",
    "    nb_teachers = 30\n",
    "    axes = [ax1, ax2, ax3, ax4, ax5, ax6]\n",
    "    axe_ind = 0\n",
    "    for beta in [10, 20, 30, 40, 50, 100]:\n",
    "        st_fairness = {\"Normal\": [], \"ff\": []}\n",
    "        loc_st_fairnesses = []\n",
    "        with Pool(5) as p:\n",
    "            loc_st_fairnesses = p.map(wrapper, [(nb_teachers, i, beta) for i in range(1, nb_teachers)])\n",
    "            p.close()\n",
    "        for cf in [\"Normal\", \"ff\"]:\n",
    "            st_fairness[cf] = sum([l_st_f[cf] for l_st_f in loc_st_fairnesses], [])\n",
    "        \n",
    "        for nb_fair in range(1, nb_teachers):\n",
    "            f = training_student(nb_teachers, nb_fair, beta)\n",
    "            stats_ff.append(f[0])\n",
    "            stats.append(f[1])\n",
    "        axes[axe_ind].plot(list(range(1, nb_teachers)), st_fairness[\"Normal\"], color=colors[0], label=\"Normal\")\n",
    "        axes[axe_ind].plot(list(range(1, nb_teachers)), st_fairness[\"ff\"], color=colors[1], label=f\"beta: {beta}\")\n",
    "        axes[axe_ind].legend()\n",
    "        axe_ind += 1\n",
    "        print(\">> beta.... \", beta, \"...Done\")\n",
    "        \n",
    "get_fairfed_beta_impact()"
   ]
  },
  {
   "cell_type": "code",
   "execution_count": null,
   "id": "6f30c551",
   "metadata": {},
   "outputs": [],
   "source": [
    "plt.show()"
   ]
  }
 ],
 "metadata": {
  "kernelspec": {
   "display_name": "Python 3 (ipykernel)",
   "language": "python",
   "name": "python3"
  },
  "language_info": {
   "codemirror_mode": {
    "name": "ipython",
    "version": 3
   },
   "file_extension": ".py",
   "mimetype": "text/x-python",
   "name": "python",
   "nbconvert_exporter": "python",
   "pygments_lexer": "ipython3",
   "version": "3.11.5"
  }
 },
 "nbformat": 4,
 "nbformat_minor": 5
}
