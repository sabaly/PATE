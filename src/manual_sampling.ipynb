{
 "cells": [
  {
   "cell_type": "code",
   "execution_count": 1,
   "id": "1e4ea06e",
   "metadata": {},
   "outputs": [
    {
     "name": "stderr",
     "output_type": "stream",
     "text": [
      "2024-05-31 08:36:55.166142: I tensorflow/core/platform/cpu_feature_guard.cc:210] This TensorFlow binary is optimized to use available CPU instructions in performance-critical operations.\n",
      "To enable the following instructions: AVX2 FMA, in other operations, rebuild TensorFlow with the appropriate compiler flags.\n",
      "2024-05-31 08:36:56.555430: W tensorflow/compiler/tf2tensorrt/utils/py_utils.cc:38] TF-TRT Warning: Could not find TensorRT\n"
     ]
    }
   ],
   "source": [
    "from folktables import ACSDataSource, ACSEmployment\n",
    "import tensorflow as tf\n",
    "from sklearn.model_selection import train_test_split\n",
    "import numpy as np\n",
    "import pandas as pd\n",
    "import os\n",
    "import math\n",
    "import pickle"
   ]
  },
  {
   "cell_type": "code",
   "execution_count": 2,
   "id": "9e11d262",
   "metadata": {},
   "outputs": [],
   "source": [
    "states = [\"HI\", \"CA\", \"PR\", \"NV\", \"NM\", \"OK\", \"NY\", \"WA\", \"AZ\",  \"MD\",\n",
    "\"TX\", \"VA\", \"MA\", \"GA\", \"CT\", \"OR\", \"IL\", \"RI\", \"NC\", \"CO\", \"DE\", \"LA\", \"UT\",\n",
    "\"FL\", \"MS\", \"SC\", \"AR\", \"SD\", \"AL\", \"MI\", \"KS\", \"ID\", \"MN\", \"MT\", \"OH\", \"IN\",\n",
    "\"TN\", \"PA\", \"NE\", \"MO\", \"WY\", \"ND\", \"WI\", \"KY\", \"NH\", \"ME\", \"IA\", \"VT\", \"WV\"] "
   ]
  },
  {
   "cell_type": "code",
   "execution_count": 3,
   "id": "c3a68d81",
   "metadata": {},
   "outputs": [],
   "source": [
    "st_ind = 0\n",
    "state = states[st_ind]\n",
    "data_src = ACSDataSource(survey_year=\"2018\", horizon=\"1-Year\", survey=\"person\")\n",
    "acs_data = data_src.get_data(states=[state], download=True)\n",
    "features, labels, group = ACSEmployment.df_to_numpy(acs_data)\n",
    "x_train, x_test, y_train, y_test, s_train, s_test = train_test_split(\n",
    "    features, labels, group, test_size=0.2, random_state=0\n",
    ")\n",
    "alpha = [100, 100]"
   ]
  },
  {
   "cell_type": "code",
   "execution_count": 4,
   "id": "c2b563a1",
   "metadata": {},
   "outputs": [],
   "source": [
    "class Teacher:\n",
    "    def __init__(self, id: int, fair=True):\n",
    "        self.tchr_id = id\n",
    "        self.local_s = []\n",
    "        self.local_m = 0\n",
    "        self.metrics = {}\n",
    "        self.status = fair\n",
    "        self.dataset = self.get_dataset()\n",
    "        self.splited_data = () # ( x_train, x_test, y_train, y_test, s_train, s_test )\n",
    "        self.split_dataset()\n",
    "\n",
    "    def define_model(self):\n",
    "        input_shape = self.splited_data[0].shape[1:]\n",
    "        tf.keras.utils.set_random_seed(self.tchr_id)\n",
    "        model = tf.keras.models.Sequential([\n",
    "            tf.keras.Input(input_shape),\n",
    "            tf.keras.layers.Dense(16, activation=\"relu\"),\n",
    "            tf.keras.layers.Dense(32, activation=\"relu\"),\n",
    "            tf.keras.layers.Dense(64, activation=\"relu\"),\n",
    "            tf.keras.layers.Dense(128, activation=\"relu\"),\n",
    "            tf.keras.layers.Dense(64, activation=\"relu\"),\n",
    "            tf.keras.layers.Dense(32, activation=\"relu\"),\n",
    "            tf.keras.layers.Dense(16, activation=\"relu\"),\n",
    "            tf.keras.layers.Dense(1, activation='sigmoid')\n",
    "        ])\n",
    "\n",
    "        model.compile(optimizer=tf.keras.optimizers.Adam(learning_rate=1e-3),\n",
    "                loss=tf.keras.losses.BinaryCrossentropy(),\n",
    "                metrics=[tf.keras.metrics.BinaryAccuracy(name=\"accuracy\"), tf.keras.metrics.Recall(name=\"recall\")])\n",
    "        \n",
    "        return model\n",
    "    \n",
    "    def get_dataset(self):\n",
    "        df = data_src.get_data(states=[states[self.tchr_id]], download=True)\n",
    "        features, labels, group = ACSEmployment.df_to_numpy(df)\n",
    "        if not self.status: \n",
    "            df = pd.DataFrame(features)\n",
    "            df.columns = ACSEmployment.features\n",
    "            df[ACSEmployment.target] = labels\n",
    "\n",
    "            p_grp_pr = df[(df[\"RAC1P\"] == 1) & (df[\"ESR\"] == True)]\n",
    "            up_grp_pr = df[(df[\"RAC1P\"] == 2) & (df[\"ESR\"] == True)]\n",
    "            rest_of_df = df[((df[\"RAC1P\"] != 1) & (df[\"RAC1P\"] != 2)) | (df[\"ESR\"] == False)]\n",
    "            p_vs_up = pd.concat([p_grp_pr, up_grp_pr])\n",
    "\n",
    "            #alpha = alphas[states.index(states[self.tchr_id])]\n",
    "            dist = np.random.dirichlet(alpha, 1)\n",
    "            size_p_grp = int(dist[0][0]*p_vs_up.shape[0])\n",
    "            size_up_grp = p_vs_up.shape[0]-size_p_grp\n",
    "\n",
    "            p_grp = p_grp_pr.sample(size_p_grp, replace=True)\n",
    "            up_grp = up_grp_pr.sample(size_up_grp, replace=True)\n",
    "            final_df = pd.concat([p_grp, up_grp, rest_of_df])\n",
    "\n",
    "            labels = np.array(final_df.pop(\"ESR\"))\n",
    "            features = final_df.copy()\n",
    "            group = final_df[\"RAC1P\"]\n",
    "\n",
    "        return features, labels, group\n",
    "\n",
    "    def split_dataset(self):\n",
    "        features, labels, group = self.dataset\n",
    "        self.splited_data = train_test_split(\n",
    "            features, labels, group, test_size=0.2, random_state=0\n",
    "        )\n",
    "        p_plabels = mean(features[(group == 1) & (labels == 1)])\n",
    "        up_plabels = mean(features[(group == 2) & (labels == 1)])\n",
    "        self.local_s = pd.DataFrame(data={\"ID\": [self.tchr_id], \"P_PLBLS\": [p_plabels], \"UP_PLBLS\": [up_plabels]})\n",
    "\n",
    "    def train_model(self):\n",
    "        x_train, x_test, y_train, y_test, _, s_test = self.splited_data\n",
    "        self.model = self.define_model()\n",
    "        self.model.fit(x_train, y_train, epochs=100, verbose=False)\n",
    "\n",
    "        self.metrics = fairness(self.model, x_test, y_test, s_test)\n",
    "    \n",
    "    def update_local_m(self, S, sum_n):\n",
    "        _, x_test, _, y_test, _, s_test = self.splited_data\n",
    "        yhat = np.round(self.model.predict(x_test))\n",
    "        p_tp = mean(yhat[(s_test == 1) & (y_test==1)])\n",
    "        up_tp = mean(yhat[(s_test==2) & (y_test==1)])\n",
    "        p_plabels = S[(S[\"ID\"] == self.tchr_id)][\"P_PLBLS\"]\n",
    "        up_plabels = S[(S[\"ID\"] == self.tchr_id)][\"UP_PLBLS\"]\n",
    "        others_p_plabels = sum(S[(S[\"ID\"] != self.tchr_id)][\"P_PLBLS\"])\n",
    "        others_up_plabels = sum(S[(S[\"ID\"] != self.tchr_id)][\"UP_PLBLS\"])\n",
    "\n",
    "        a = p_tp*p_plabels/others_p_plabels\n",
    "        b = up_tp*up_plabels/others_up_plabels\n",
    "\n",
    "        self.nk = x_test.shape[0]\n",
    "\n",
    "        self.local_m = (b-a)*self.nk/sum_n"
   ]
  },
  {
   "cell_type": "code",
   "execution_count": 5,
   "id": "e13b665b",
   "metadata": {},
   "outputs": [],
   "source": [
    "def mean(myarray):\n",
    "    mn = np.mean(myarray)\n",
    "    return 0 if math.isnan(mn) else mn\n",
    "\n",
    "def fairness(model, x_test, y_test, group_test):\n",
    "    yhat = np.round(model.predict(x_test))\n",
    "    ev = model.evaluate(x_test, y_test)\n",
    "    acc = float(format(ev[1], \"0.4f\"))\n",
    "    rec = float(format(ev[2], \".4f\"))\n",
    "\n",
    "    p_grp_tpr = mean(yhat[(y_test == 1) & (group_test == 1)])\n",
    "    up_grp_tpr = mean(yhat[(y_test == 1) & (group_test == 2)])\n",
    "    \n",
    "    # equality of difference (opportinuty)\n",
    "    eod = float(format(abs(p_grp_tpr - up_grp_tpr), \".4f\"))\n",
    "\n",
    "    # statistical parity difference\n",
    "    p_grp = mean(yhat[(group_test == 1)])\n",
    "    up_grp = mean(yhat[(group_test == 2)])\n",
    "    spd = float(format(abs(p_grp - up_grp), \".4f\"))\n",
    "\n",
    "    return {\"EOD\": eod, \"SPD\": spd, \"ACC\": acc, \"REC\": rec}"
   ]
  },
  {
   "cell_type": "code",
   "execution_count": 41,
   "id": "ee8499d2",
   "metadata": {},
   "outputs": [
    {
     "name": "stdout",
     "output_type": "stream",
     "text": [
      "Downloading data for 2018 1-Year person survey for WV...\n",
      "\u001b[1m113/113\u001b[0m \u001b[32m━━━━━━━━━━━━━━━━━━━━\u001b[0m\u001b[37m\u001b[0m \u001b[1m0s\u001b[0m 1ms/step\n",
      "\u001b[1m113/113\u001b[0m \u001b[32m━━━━━━━━━━━━━━━━━━━━\u001b[0m\u001b[37m\u001b[0m \u001b[1m0s\u001b[0m 832us/step - accuracy: 0.8108 - loss: 0.4313 - recall: 0.7302\n"
     ]
    }
   ],
   "source": [
    "fair = True\n",
    "tchr_ind = 48\n",
    "T = Teacher(tchr_ind, fair)\n",
    "T.train_model()"
   ]
  },
  {
   "cell_type": "code",
   "execution_count": 42,
   "id": "229011f7",
   "metadata": {},
   "outputs": [
    {
     "name": "stdout",
     "output_type": "stream",
     "text": [
      "Fair model for WV saved\n",
      "{'EOD': 0.0611, 'SPD': 0.0506, 'ACC': 0.808, 'REC': 0.7284}\n"
     ]
    }
   ],
   "source": [
    "path = \"../checkpoint/\" + states[T.tchr_id] + \"/\"\n",
    "if not os.path.exists(path):\n",
    "    os.makedirs(path)\n",
    "if T.metrics[\"EOD\"] < 0.1:\n",
    "    # save the model\n",
    "    T.model.save(path + \"fair_model.keras\")\n",
    "    with open(path+states[T.tchr_id]+\"_fair.pkl\", \"wb\") as f:\n",
    "        pickle.dump(T, f, pickle.HIGHEST_PROTOCOL)\n",
    "    print(f\"Fair model for {states[T.tchr_id]} saved\")\n",
    "else:\n",
    "    fair = False\n",
    "    T.model.save(path + \"unfair_model.keras\")\n",
    "    with open(path+states[T.tchr_id]+\"_unfair.pkl\", \"wb\") as f:\n",
    "        pickle.dump(T, f, pickle.HIGHEST_PROTOCOL)\n",
    "    print(f\"Unfair model for {states[T.tchr_id]} saved\")\n",
    "print(T.metrics)"
   ]
  },
  {
   "cell_type": "code",
   "execution_count": 43,
   "id": "7631ac71",
   "metadata": {},
   "outputs": [
    {
     "name": "stdout",
     "output_type": "stream",
     "text": [
      "\u001b[1m113/113\u001b[0m \u001b[32m━━━━━━━━━━━━━━━━━━━━\u001b[0m\u001b[37m\u001b[0m \u001b[1m0s\u001b[0m 1ms/step\n",
      "\u001b[1m113/113\u001b[0m \u001b[32m━━━━━━━━━━━━━━━━━━━━\u001b[0m\u001b[37m\u001b[0m \u001b[1m0s\u001b[0m 794us/step - accuracy: 0.8582 - loss: 0.3245 - recall: 0.8371\n",
      "Unfair model for WV saved\n",
      "{'EOD': 0.3078, 'SPD': 0.679, 'ACC': 0.8603, 'REC': 0.8395}\n"
     ]
    }
   ],
   "source": [
    "alpha = [100,100]\n",
    "if fair: # a fair model already save\n",
    "    T = Teacher(tchr_ind, not fair)\n",
    "    T.train_model()\n",
    "    if T.metrics[\"EOD\"] > 0.1:\n",
    "        T.model.save(path + \"unfair_model.keras\")\n",
    "        with open(path+states[T.tchr_id]+\"_unfair.pkl\", \"wb\") as f:\n",
    "            pickle.dump(T, f, pickle.HIGHEST_PROTOCOL)\n",
    "        print(f\"Unfair model for {states[T.tchr_id]} saved\")\n",
    "    else:\n",
    "        print(\"Not yet :(\")\n",
    "else: # an unfair model already save\n",
    "    T = Teacher(tchr_ind, fair)\n",
    "    T.train_model()\n",
    "    if T.metrics[\"EOD\"] < 0.1:\n",
    "        T.model.save(path + \"fair_model.keras\")\n",
    "        with open(path+states[T.tchr_id]+\"_fair.pkl\", \"wb\") as f:\n",
    "            pickle.dump(T, f, pickle.HIGHEST_PROTOCOL)\n",
    "        print(f\"Fair model for {states[T.tchr_id]} saved\")\n",
    "    else:\n",
    "        print(\"Not yet :(\")\n",
    "print(T.metrics)"
   ]
  },
  {
   "cell_type": "code",
   "execution_count": 249,
   "id": "d95aef31",
   "metadata": {},
   "outputs": [
    {
     "name": "stdout",
     "output_type": "stream",
     "text": [
      "\u001b[1m183/183\u001b[0m \u001b[32m━━━━━━━━━━━━━━━━━━━━\u001b[0m\u001b[37m\u001b[0m \u001b[1m0s\u001b[0m 570us/step\n",
      "\u001b[1m183/183\u001b[0m \u001b[32m━━━━━━━━━━━━━━━━━━━━\u001b[0m\u001b[37m\u001b[0m \u001b[1m0s\u001b[0m 404us/step - accuracy: 0.8294 - loss: 0.4080 - recall: 0.7767\n",
      "Unfair model for MS saved\n",
      "{'EOD': 0.1927, 'SPD': 0.2794, 'ACC': 0.8318, 'REC': 0.7777}\n"
     ]
    }
   ],
   "source": [
    "# change the unfair model\n",
    "alpha = [50,100]\n",
    "T = Teacher(tchr_ind, False)\n",
    "T.train_model()\n",
    "if T.metrics[\"EOD\"] > 0.18:\n",
    "    T.model.save(path + \"unfair_model.keras\")\n",
    "    with open(path+states[T.tchr_id]+\"_unfair.pkl\", \"wb\") as f:\n",
    "        pickle.dump(T, f, pickle.HIGHEST_PROTOCOL)\n",
    "    print(f\"Unfair model for {states[T.tchr_id]} saved\")\n",
    "else:\n",
    "    print(\"Oups !\")\n",
    "print(T.metrics)"
   ]
  },
  {
   "cell_type": "code",
   "execution_count": 228,
   "id": "aa735fa9",
   "metadata": {},
   "outputs": [
    {
     "name": "stdout",
     "output_type": "stream",
     "text": [
      "{'EOD': 0.03, 'SPD': 0.0449, 'ACC': 0.8193, 'REC': 0.8713}\n",
      "\u001b[1m1232/1232\u001b[0m \u001b[32m━━━━━━━━━━━━━━━━━━━━\u001b[0m\u001b[37m\u001b[0m \u001b[1m1s\u001b[0m 390us/step\n",
      "\u001b[1m1232/1232\u001b[0m \u001b[32m━━━━━━━━━━━━━━━━━━━━\u001b[0m\u001b[37m\u001b[0m \u001b[1m1s\u001b[0m 369us/step - accuracy: 0.8194 - loss: 0.3929 - recall: 0.8747\n"
     ]
    },
    {
     "data": {
      "text/plain": [
       "{'EOD': 0.03, 'SPD': 0.0449, 'ACC': 0.8193, 'REC': 0.8713}"
      ]
     },
     "execution_count": 228,
     "metadata": {},
     "output_type": "execute_result"
    }
   ],
   "source": [
    "with open(\"../checkpoint/NY/NY_fair.pkl\", \"rb\") as f:\n",
    "    TT = pickle.load(f)\n",
    "print(TT.metrics)\n",
    "\n",
    "model = tf.keras.models.load_model(\"../checkpoint/NY/fair_model.keras\")\n",
    "fairness(TT.model, TT.splited_data[1], TT.splited_data[3], TT.splited_data[5])"
   ]
  },
  {
   "cell_type": "code",
   "execution_count": null,
   "id": "f5106079",
   "metadata": {},
   "outputs": [],
   "source": [
    "np.random.dirichlet([300, 1])"
   ]
  }
 ],
 "metadata": {
  "kernelspec": {
   "display_name": "Python 3 (ipykernel)",
   "language": "python",
   "name": "python3"
  },
  "language_info": {
   "codemirror_mode": {
    "name": "ipython",
    "version": 3
   },
   "file_extension": ".py",
   "mimetype": "text/x-python",
   "name": "python",
   "nbconvert_exporter": "python",
   "pygments_lexer": "ipython3",
   "version": "3.11.5"
  }
 },
 "nbformat": 4,
 "nbformat_minor": 5
}
